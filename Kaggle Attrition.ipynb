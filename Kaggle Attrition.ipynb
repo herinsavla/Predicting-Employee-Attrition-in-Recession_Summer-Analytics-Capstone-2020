{
 "cells": [
  {
   "cell_type": "code",
   "execution_count": 1,
   "metadata": {},
   "outputs": [],
   "source": [
    "import pandas as pd\n",
    "import numpy as np\n",
    "from sklearn.model_selection import train_test_split as tts"
   ]
  },
  {
   "cell_type": "code",
   "execution_count": 2,
   "metadata": {},
   "outputs": [],
   "source": [
    "test=pd.read_csv('test.csv')\n",
    "train=pd.read_csv('train.csv')"
   ]
  },
  {
   "cell_type": "markdown",
   "metadata": {},
   "source": [
    "## Let's do some EDA"
   ]
  },
  {
   "cell_type": "code",
   "execution_count": 3,
   "metadata": {
    "scrolled": true
   },
   "outputs": [
    {
     "data": {
      "text/html": [
       "<div>\n",
       "<style scoped>\n",
       "    .dataframe tbody tr th:only-of-type {\n",
       "        vertical-align: middle;\n",
       "    }\n",
       "\n",
       "    .dataframe tbody tr th {\n",
       "        vertical-align: top;\n",
       "    }\n",
       "\n",
       "    .dataframe thead th {\n",
       "        text-align: right;\n",
       "    }\n",
       "</style>\n",
       "<table border=\"1\" class=\"dataframe\">\n",
       "  <thead>\n",
       "    <tr style=\"text-align: right;\">\n",
       "      <th></th>\n",
       "      <th>count</th>\n",
       "      <th>mean</th>\n",
       "      <th>std</th>\n",
       "      <th>min</th>\n",
       "      <th>25%</th>\n",
       "      <th>50%</th>\n",
       "      <th>75%</th>\n",
       "      <th>max</th>\n",
       "    </tr>\n",
       "  </thead>\n",
       "  <tbody>\n",
       "    <tr>\n",
       "      <th>Id</th>\n",
       "      <td>1628.0</td>\n",
       "      <td>814.500000</td>\n",
       "      <td>470.107435</td>\n",
       "      <td>1.0</td>\n",
       "      <td>407.75</td>\n",
       "      <td>814.5</td>\n",
       "      <td>1221.25</td>\n",
       "      <td>1628.0</td>\n",
       "    </tr>\n",
       "    <tr>\n",
       "      <th>Age</th>\n",
       "      <td>1628.0</td>\n",
       "      <td>35.645577</td>\n",
       "      <td>9.481794</td>\n",
       "      <td>18.0</td>\n",
       "      <td>29.00</td>\n",
       "      <td>34.0</td>\n",
       "      <td>42.00</td>\n",
       "      <td>60.0</td>\n",
       "    </tr>\n",
       "    <tr>\n",
       "      <th>Attrition</th>\n",
       "      <td>1628.0</td>\n",
       "      <td>0.482187</td>\n",
       "      <td>0.499836</td>\n",
       "      <td>0.0</td>\n",
       "      <td>0.00</td>\n",
       "      <td>0.0</td>\n",
       "      <td>1.00</td>\n",
       "      <td>1.0</td>\n",
       "    </tr>\n",
       "    <tr>\n",
       "      <th>DistanceFromHome</th>\n",
       "      <td>1628.0</td>\n",
       "      <td>9.735258</td>\n",
       "      <td>8.306546</td>\n",
       "      <td>1.0</td>\n",
       "      <td>2.00</td>\n",
       "      <td>8.0</td>\n",
       "      <td>15.00</td>\n",
       "      <td>29.0</td>\n",
       "    </tr>\n",
       "    <tr>\n",
       "      <th>Education</th>\n",
       "      <td>1628.0</td>\n",
       "      <td>2.884521</td>\n",
       "      <td>1.020470</td>\n",
       "      <td>1.0</td>\n",
       "      <td>2.00</td>\n",
       "      <td>3.0</td>\n",
       "      <td>4.00</td>\n",
       "      <td>5.0</td>\n",
       "    </tr>\n",
       "    <tr>\n",
       "      <th>EmployeeNumber</th>\n",
       "      <td>1628.0</td>\n",
       "      <td>1000.985872</td>\n",
       "      <td>585.417694</td>\n",
       "      <td>1.0</td>\n",
       "      <td>509.25</td>\n",
       "      <td>977.0</td>\n",
       "      <td>1494.00</td>\n",
       "      <td>2068.0</td>\n",
       "    </tr>\n",
       "    <tr>\n",
       "      <th>EnvironmentSatisfaction</th>\n",
       "      <td>1628.0</td>\n",
       "      <td>2.646192</td>\n",
       "      <td>1.125283</td>\n",
       "      <td>1.0</td>\n",
       "      <td>2.00</td>\n",
       "      <td>3.0</td>\n",
       "      <td>4.00</td>\n",
       "      <td>4.0</td>\n",
       "    </tr>\n",
       "    <tr>\n",
       "      <th>JobInvolvement</th>\n",
       "      <td>1628.0</td>\n",
       "      <td>2.650491</td>\n",
       "      <td>0.736330</td>\n",
       "      <td>1.0</td>\n",
       "      <td>2.00</td>\n",
       "      <td>3.0</td>\n",
       "      <td>3.00</td>\n",
       "      <td>4.0</td>\n",
       "    </tr>\n",
       "    <tr>\n",
       "      <th>JobSatisfaction</th>\n",
       "      <td>1628.0</td>\n",
       "      <td>2.639435</td>\n",
       "      <td>1.096272</td>\n",
       "      <td>1.0</td>\n",
       "      <td>2.00</td>\n",
       "      <td>3.0</td>\n",
       "      <td>4.00</td>\n",
       "      <td>4.0</td>\n",
       "    </tr>\n",
       "    <tr>\n",
       "      <th>MonthlyIncome</th>\n",
       "      <td>1628.0</td>\n",
       "      <td>5785.524570</td>\n",
       "      <td>4339.293147</td>\n",
       "      <td>1009.0</td>\n",
       "      <td>2625.00</td>\n",
       "      <td>4304.0</td>\n",
       "      <td>7124.25</td>\n",
       "      <td>19999.0</td>\n",
       "    </tr>\n",
       "    <tr>\n",
       "      <th>NumCompaniesWorked</th>\n",
       "      <td>1628.0</td>\n",
       "      <td>2.761671</td>\n",
       "      <td>2.549995</td>\n",
       "      <td>0.0</td>\n",
       "      <td>1.00</td>\n",
       "      <td>2.0</td>\n",
       "      <td>4.00</td>\n",
       "      <td>9.0</td>\n",
       "    </tr>\n",
       "    <tr>\n",
       "      <th>PercentSalaryHike</th>\n",
       "      <td>1628.0</td>\n",
       "      <td>15.207617</td>\n",
       "      <td>3.686703</td>\n",
       "      <td>11.0</td>\n",
       "      <td>12.00</td>\n",
       "      <td>14.0</td>\n",
       "      <td>18.00</td>\n",
       "      <td>25.0</td>\n",
       "    </tr>\n",
       "    <tr>\n",
       "      <th>PerformanceRating</th>\n",
       "      <td>1628.0</td>\n",
       "      <td>3.155405</td>\n",
       "      <td>0.362402</td>\n",
       "      <td>3.0</td>\n",
       "      <td>3.00</td>\n",
       "      <td>3.0</td>\n",
       "      <td>3.00</td>\n",
       "      <td>4.0</td>\n",
       "    </tr>\n",
       "    <tr>\n",
       "      <th>StockOptionLevel</th>\n",
       "      <td>1628.0</td>\n",
       "      <td>0.692260</td>\n",
       "      <td>0.864808</td>\n",
       "      <td>0.0</td>\n",
       "      <td>0.00</td>\n",
       "      <td>0.0</td>\n",
       "      <td>1.00</td>\n",
       "      <td>3.0</td>\n",
       "    </tr>\n",
       "    <tr>\n",
       "      <th>TotalWorkingYears</th>\n",
       "      <td>1628.0</td>\n",
       "      <td>9.949017</td>\n",
       "      <td>7.482936</td>\n",
       "      <td>0.0</td>\n",
       "      <td>5.00</td>\n",
       "      <td>8.0</td>\n",
       "      <td>13.00</td>\n",
       "      <td>38.0</td>\n",
       "    </tr>\n",
       "    <tr>\n",
       "      <th>TrainingTimesLastYear</th>\n",
       "      <td>1628.0</td>\n",
       "      <td>2.752457</td>\n",
       "      <td>1.288033</td>\n",
       "      <td>0.0</td>\n",
       "      <td>2.00</td>\n",
       "      <td>3.0</td>\n",
       "      <td>3.00</td>\n",
       "      <td>6.0</td>\n",
       "    </tr>\n",
       "    <tr>\n",
       "      <th>YearsAtCompany</th>\n",
       "      <td>1628.0</td>\n",
       "      <td>6.092752</td>\n",
       "      <td>5.921168</td>\n",
       "      <td>0.0</td>\n",
       "      <td>2.00</td>\n",
       "      <td>5.0</td>\n",
       "      <td>8.00</td>\n",
       "      <td>37.0</td>\n",
       "    </tr>\n",
       "    <tr>\n",
       "      <th>YearsInCurrentRole</th>\n",
       "      <td>1628.0</td>\n",
       "      <td>3.614865</td>\n",
       "      <td>3.481051</td>\n",
       "      <td>0.0</td>\n",
       "      <td>1.00</td>\n",
       "      <td>2.0</td>\n",
       "      <td>7.00</td>\n",
       "      <td>18.0</td>\n",
       "    </tr>\n",
       "    <tr>\n",
       "      <th>YearsSinceLastPromotion</th>\n",
       "      <td>1628.0</td>\n",
       "      <td>2.049140</td>\n",
       "      <td>3.138287</td>\n",
       "      <td>0.0</td>\n",
       "      <td>0.00</td>\n",
       "      <td>1.0</td>\n",
       "      <td>2.00</td>\n",
       "      <td>15.0</td>\n",
       "    </tr>\n",
       "    <tr>\n",
       "      <th>YearsWithCurrManager</th>\n",
       "      <td>1628.0</td>\n",
       "      <td>3.551597</td>\n",
       "      <td>3.494369</td>\n",
       "      <td>0.0</td>\n",
       "      <td>0.00</td>\n",
       "      <td>2.0</td>\n",
       "      <td>7.00</td>\n",
       "      <td>17.0</td>\n",
       "    </tr>\n",
       "    <tr>\n",
       "      <th>CommunicationSkill</th>\n",
       "      <td>1628.0</td>\n",
       "      <td>3.135749</td>\n",
       "      <td>1.408770</td>\n",
       "      <td>1.0</td>\n",
       "      <td>2.00</td>\n",
       "      <td>3.0</td>\n",
       "      <td>4.00</td>\n",
       "      <td>5.0</td>\n",
       "    </tr>\n",
       "    <tr>\n",
       "      <th>Behaviour</th>\n",
       "      <td>1628.0</td>\n",
       "      <td>1.000000</td>\n",
       "      <td>0.000000</td>\n",
       "      <td>1.0</td>\n",
       "      <td>1.00</td>\n",
       "      <td>1.0</td>\n",
       "      <td>1.00</td>\n",
       "      <td>1.0</td>\n",
       "    </tr>\n",
       "  </tbody>\n",
       "</table>\n",
       "</div>"
      ],
      "text/plain": [
       "                          count         mean          std     min      25%  \\\n",
       "Id                       1628.0   814.500000   470.107435     1.0   407.75   \n",
       "Age                      1628.0    35.645577     9.481794    18.0    29.00   \n",
       "Attrition                1628.0     0.482187     0.499836     0.0     0.00   \n",
       "DistanceFromHome         1628.0     9.735258     8.306546     1.0     2.00   \n",
       "Education                1628.0     2.884521     1.020470     1.0     2.00   \n",
       "EmployeeNumber           1628.0  1000.985872   585.417694     1.0   509.25   \n",
       "EnvironmentSatisfaction  1628.0     2.646192     1.125283     1.0     2.00   \n",
       "JobInvolvement           1628.0     2.650491     0.736330     1.0     2.00   \n",
       "JobSatisfaction          1628.0     2.639435     1.096272     1.0     2.00   \n",
       "MonthlyIncome            1628.0  5785.524570  4339.293147  1009.0  2625.00   \n",
       "NumCompaniesWorked       1628.0     2.761671     2.549995     0.0     1.00   \n",
       "PercentSalaryHike        1628.0    15.207617     3.686703    11.0    12.00   \n",
       "PerformanceRating        1628.0     3.155405     0.362402     3.0     3.00   \n",
       "StockOptionLevel         1628.0     0.692260     0.864808     0.0     0.00   \n",
       "TotalWorkingYears        1628.0     9.949017     7.482936     0.0     5.00   \n",
       "TrainingTimesLastYear    1628.0     2.752457     1.288033     0.0     2.00   \n",
       "YearsAtCompany           1628.0     6.092752     5.921168     0.0     2.00   \n",
       "YearsInCurrentRole       1628.0     3.614865     3.481051     0.0     1.00   \n",
       "YearsSinceLastPromotion  1628.0     2.049140     3.138287     0.0     0.00   \n",
       "YearsWithCurrManager     1628.0     3.551597     3.494369     0.0     0.00   \n",
       "CommunicationSkill       1628.0     3.135749     1.408770     1.0     2.00   \n",
       "Behaviour                1628.0     1.000000     0.000000     1.0     1.00   \n",
       "\n",
       "                            50%      75%      max  \n",
       "Id                        814.5  1221.25   1628.0  \n",
       "Age                        34.0    42.00     60.0  \n",
       "Attrition                   0.0     1.00      1.0  \n",
       "DistanceFromHome            8.0    15.00     29.0  \n",
       "Education                   3.0     4.00      5.0  \n",
       "EmployeeNumber            977.0  1494.00   2068.0  \n",
       "EnvironmentSatisfaction     3.0     4.00      4.0  \n",
       "JobInvolvement              3.0     3.00      4.0  \n",
       "JobSatisfaction             3.0     4.00      4.0  \n",
       "MonthlyIncome            4304.0  7124.25  19999.0  \n",
       "NumCompaniesWorked          2.0     4.00      9.0  \n",
       "PercentSalaryHike          14.0    18.00     25.0  \n",
       "PerformanceRating           3.0     3.00      4.0  \n",
       "StockOptionLevel            0.0     1.00      3.0  \n",
       "TotalWorkingYears           8.0    13.00     38.0  \n",
       "TrainingTimesLastYear       3.0     3.00      6.0  \n",
       "YearsAtCompany              5.0     8.00     37.0  \n",
       "YearsInCurrentRole          2.0     7.00     18.0  \n",
       "YearsSinceLastPromotion     1.0     2.00     15.0  \n",
       "YearsWithCurrManager        2.0     7.00     17.0  \n",
       "CommunicationSkill          3.0     4.00      5.0  \n",
       "Behaviour                   1.0     1.00      1.0  "
      ]
     },
     "execution_count": 3,
     "metadata": {},
     "output_type": "execute_result"
    }
   ],
   "source": [
    "train.describe().T"
   ]
  },
  {
   "cell_type": "code",
   "execution_count": 5,
   "metadata": {
    "scrolled": true
   },
   "outputs": [
    {
     "name": "stdout",
     "output_type": "stream",
     "text": [
      "<class 'pandas.core.frame.DataFrame'>\n",
      "RangeIndex: 1628 entries, 0 to 1627\n",
      "Data columns (total 29 columns):\n",
      "Id                         1628 non-null int64\n",
      "Age                        1628 non-null int64\n",
      "Attrition                  1628 non-null int64\n",
      "BusinessTravel             1628 non-null object\n",
      "Department                 1628 non-null object\n",
      "DistanceFromHome           1628 non-null int64\n",
      "Education                  1628 non-null int64\n",
      "EducationField             1628 non-null object\n",
      "EmployeeNumber             1628 non-null int64\n",
      "EnvironmentSatisfaction    1628 non-null int64\n",
      "Gender                     1628 non-null object\n",
      "JobInvolvement             1628 non-null int64\n",
      "JobRole                    1628 non-null object\n",
      "JobSatisfaction            1628 non-null int64\n",
      "MaritalStatus              1628 non-null object\n",
      "MonthlyIncome              1628 non-null int64\n",
      "NumCompaniesWorked         1628 non-null int64\n",
      "OverTime                   1628 non-null object\n",
      "PercentSalaryHike          1628 non-null int64\n",
      "PerformanceRating          1628 non-null int64\n",
      "StockOptionLevel           1628 non-null int64\n",
      "TotalWorkingYears          1628 non-null int64\n",
      "TrainingTimesLastYear      1628 non-null int64\n",
      "YearsAtCompany             1628 non-null int64\n",
      "YearsInCurrentRole         1628 non-null int64\n",
      "YearsSinceLastPromotion    1628 non-null int64\n",
      "YearsWithCurrManager       1628 non-null int64\n",
      "CommunicationSkill         1628 non-null int64\n",
      "Behaviour                  1628 non-null int64\n",
      "dtypes: int64(22), object(7)\n",
      "memory usage: 368.9+ KB\n"
     ]
    }
   ],
   "source": [
    "train.info()"
   ]
  },
  {
   "cell_type": "code",
   "execution_count": 9,
   "metadata": {},
   "outputs": [
    {
     "ename": "AttributeError",
     "evalue": "'DataFrame' object has no attribute 'value_counts'",
     "output_type": "error",
     "traceback": [
      "\u001b[1;31m---------------------------------------------------------------------------\u001b[0m",
      "\u001b[1;31mAttributeError\u001b[0m                            Traceback (most recent call last)",
      "\u001b[1;32m<ipython-input-9-bad8d0a59585>\u001b[0m in \u001b[0;36m<module>\u001b[1;34m\u001b[0m\n\u001b[1;32m----> 1\u001b[1;33m \u001b[0mtest\u001b[0m\u001b[1;33m.\u001b[0m\u001b[0misnull\u001b[0m\u001b[1;33m(\u001b[0m\u001b[1;33m)\u001b[0m\u001b[1;33m.\u001b[0m\u001b[0mvalue_counts\u001b[0m\u001b[1;33m\u001b[0m\u001b[1;33m\u001b[0m\u001b[0m\n\u001b[0m",
      "\u001b[1;32m~\\Anaconda3\\lib\\site-packages\\pandas\\core\\generic.py\u001b[0m in \u001b[0;36m__getattr__\u001b[1;34m(self, name)\u001b[0m\n\u001b[0;32m   5065\u001b[0m             \u001b[1;32mif\u001b[0m \u001b[0mself\u001b[0m\u001b[1;33m.\u001b[0m\u001b[0m_info_axis\u001b[0m\u001b[1;33m.\u001b[0m\u001b[0m_can_hold_identifiers_and_holds_name\u001b[0m\u001b[1;33m(\u001b[0m\u001b[0mname\u001b[0m\u001b[1;33m)\u001b[0m\u001b[1;33m:\u001b[0m\u001b[1;33m\u001b[0m\u001b[1;33m\u001b[0m\u001b[0m\n\u001b[0;32m   5066\u001b[0m                 \u001b[1;32mreturn\u001b[0m \u001b[0mself\u001b[0m\u001b[1;33m[\u001b[0m\u001b[0mname\u001b[0m\u001b[1;33m]\u001b[0m\u001b[1;33m\u001b[0m\u001b[1;33m\u001b[0m\u001b[0m\n\u001b[1;32m-> 5067\u001b[1;33m             \u001b[1;32mreturn\u001b[0m \u001b[0mobject\u001b[0m\u001b[1;33m.\u001b[0m\u001b[0m__getattribute__\u001b[0m\u001b[1;33m(\u001b[0m\u001b[0mself\u001b[0m\u001b[1;33m,\u001b[0m \u001b[0mname\u001b[0m\u001b[1;33m)\u001b[0m\u001b[1;33m\u001b[0m\u001b[1;33m\u001b[0m\u001b[0m\n\u001b[0m\u001b[0;32m   5068\u001b[0m \u001b[1;33m\u001b[0m\u001b[0m\n\u001b[0;32m   5069\u001b[0m     \u001b[1;32mdef\u001b[0m \u001b[0m__setattr__\u001b[0m\u001b[1;33m(\u001b[0m\u001b[0mself\u001b[0m\u001b[1;33m,\u001b[0m \u001b[0mname\u001b[0m\u001b[1;33m,\u001b[0m \u001b[0mvalue\u001b[0m\u001b[1;33m)\u001b[0m\u001b[1;33m:\u001b[0m\u001b[1;33m\u001b[0m\u001b[1;33m\u001b[0m\u001b[0m\n",
      "\u001b[1;31mAttributeError\u001b[0m: 'DataFrame' object has no attribute 'value_counts'"
     ]
    }
   ],
   "source": [
    "test.isnull().value_counts"
   ]
  },
  {
   "cell_type": "code",
   "execution_count": 8,
   "metadata": {},
   "outputs": [],
   "source": [
    "import seaborn as sns\n",
    "import matplotlib.pyplot as plt\n",
    "sns.set()"
   ]
  },
  {
   "cell_type": "code",
   "execution_count": 9,
   "metadata": {
    "scrolled": true
   },
   "outputs": [
    {
     "data": {
      "image/png": "[encoded data removed]",
      "text/plain": [
       "<Figure size 1080x360 with 1 Axes>"
      ]
     },
     "metadata": {},
     "output_type": "display_data"
    }
   ],
   "source": [
    "plt.figure(figsize=(15,5))\n",
    "sns.boxplot(y='Attrition',data=train,x='MonthlyIncome',orient='h')"
   ]
  },
  {
   "cell_type": "code",
   "execution_count": 10,
   "metadata": {},
   "outputs": [
    {
     "data": {
      "text/plain": [
       "0    120\n",
       "1     35\n",
       "Name: Attrition, dtype: int64"
      ]
     },
     "execution_count": 10,
     "metadata": {},
     "output_type": "execute_result"
    }
   ],
   "source": [
    "train[train.MonthlyIncome>12500].Attrition.value_counts()"
   ]
  },
  {
   "cell_type": "code",
   "execution_count": 11,
   "metadata": {
    "scrolled": true
   },
   "outputs": [
    {
     "data": {
      "text/plain": [
       "<matplotlib.axes._subplots.AxesSubplot at 0x19f2a895588>"
      ]
     },
     "execution_count": 11,
     "metadata": {},
     "output_type": "execute_result"
    },
    {
     "data": {
      "image/png": "[encoded data removed]",
      "text/plain": [
       "<Figure size 432x288 with 1 Axes>"
      ]
     },
     "metadata": {},
     "output_type": "display_data"
    }
   ],
   "source": [
    "sns.boxplot(y='Attrition',data=train,x='TotalWorkingYears',orient='h')"
   ]
  },
  {
   "cell_type": "code",
   "execution_count": 12,
   "metadata": {},
   "outputs": [
    {
     "data": {
      "text/plain": [
       "0    132\n",
       "1     40\n",
       "Name: Attrition, dtype: int64"
      ]
     },
     "execution_count": 12,
     "metadata": {},
     "output_type": "execute_result"
    }
   ],
   "source": [
    "train[train.TotalWorkingYears>20].Attrition.value_counts()"
   ]
  },
  {
   "cell_type": "code",
   "execution_count": 13,
   "metadata": {
    "scrolled": false
   },
   "outputs": [
    {
     "data": {
      "text/plain": [
       "<matplotlib.axes._subplots.AxesSubplot at 0x19f2a87db00>"
      ]
     },
     "execution_count": 13,
     "metadata": {},
     "output_type": "execute_result"
    },
    {
     "data": {
      "image/png": "[encoded data removed]",
      "text/plain": [
       "<Figure size 1080x360 with 1 Axes>"
      ]
     },
     "metadata": {},
     "output_type": "display_data"
    }
   ],
   "source": [
    "plt.figure(figsize=(15,5))\n",
    "sns.countplot(hue='Attrition',data=train,x='Age')"
   ]
  },
  {
   "cell_type": "code",
   "execution_count": 14,
   "metadata": {
    "scrolled": false
   },
   "outputs": [
    {
     "data": {
      "text/plain": [
       "<matplotlib.axes._subplots.AxesSubplot at 0x19f2aa00278>"
      ]
     },
     "execution_count": 14,
     "metadata": {},
     "output_type": "execute_result"
    },
    {
     "data": {
      "image/png": "[encoded data removed]",
      "text/plain": [
       "<Figure size 1080x360 with 1 Axes>"
      ]
     },
     "metadata": {},
     "output_type": "display_data"
    }
   ],
   "source": [
    "plt.figure(figsize=(15,5))\n",
    "sns.countplot(hue='Attrition',data=train,x='TotalWorkingYears')"
   ]
  },
  {
   "cell_type": "code",
   "execution_count": 15,
   "metadata": {},
   "outputs": [
    {
     "data": {
      "text/plain": [
       "<matplotlib.axes._subplots.AxesSubplot at 0x19f2aaeaa20>"
      ]
     },
     "execution_count": 15,
     "metadata": {},
     "output_type": "execute_result"
    },
    {
     "data": {
      "image/png": "[encoded data removed]",
      "text/plain": [
       "<Figure size 432x288 with 1 Axes>"
      ]
     },
     "metadata": {},
     "output_type": "display_data"
    }
   ],
   "source": [
    "sns.boxplot(y='Attrition',data=train,x='YearsWithCurrManager',orient='h')"
   ]
  },
  {
   "cell_type": "code",
   "execution_count": 16,
   "metadata": {},
   "outputs": [
    {
     "data": {
      "text/plain": [
       "<matplotlib.axes._subplots.AxesSubplot at 0x19f2ab91048>"
      ]
     },
     "execution_count": 16,
     "metadata": {},
     "output_type": "execute_result"
    },
    {
     "data": {
      "image/png": "[encoded data removed]",
      "text/plain": [
       "<Figure size 432x288 with 1 Axes>"
      ]
     },
     "metadata": {},
     "output_type": "display_data"
    }
   ],
   "source": [
    "sns.boxplot(y='Attrition',data=train,x='YearsInCurrentRole',orient='h')"
   ]
  },
  {
   "cell_type": "code",
   "execution_count": 17,
   "metadata": {
    "scrolled": false
   },
   "outputs": [
    {
     "data": {
      "text/plain": [
       "<matplotlib.axes._subplots.AxesSubplot at 0x19f2ad9c8d0>"
      ]
     },
     "execution_count": 17,
     "metadata": {},
     "output_type": "execute_result"
    },
    {
     "data": {
      "image/png": "[encoded data removed]",
      "text/plain": [
       "<Figure size 1080x360 with 1 Axes>"
      ]
     },
     "metadata": {},
     "output_type": "display_data"
    }
   ],
   "source": [
    "plt.figure(figsize=(15,5))\n",
    "sns.boxplot(y='Attrition',data=train,x='YearsAtCompany',orient='h')"
   ]
  },
  {
   "cell_type": "code",
   "execution_count": 18,
   "metadata": {
    "scrolled": true
   },
   "outputs": [
    {
     "data": {
      "text/plain": [
       "<matplotlib.axes._subplots.AxesSubplot at 0x19f2aa3cbe0>"
      ]
     },
     "execution_count": 18,
     "metadata": {},
     "output_type": "execute_result"
    },
    {
     "data": {
      "image/png": "[encoded data removed]",
      "text/plain": [
       "<Figure size 1080x360 with 1 Axes>"
      ]
     },
     "metadata": {},
     "output_type": "display_data"
    }
   ],
   "source": [
    "plt.figure(figsize=(15,5))\n",
    "\n",
    "sns.countplot(data=train,x='YearsSinceLastPromotion',hue='Attrition')"
   ]
  },
  {
   "cell_type": "code",
   "execution_count": 19,
   "metadata": {
    "scrolled": true
   },
   "outputs": [
    {
     "data": {
      "text/plain": [
       "(array([ 15., 160., 120., 312., 324., 294., 173., 137.,  61.,  32.]),\n",
       " array([0.       , 0.6164414, 1.2328828, 1.8493242, 2.4657656, 3.082207 ,\n",
       "        3.6986484, 4.3150898, 4.9315312, 5.5479726, 6.164414 ]),\n",
       " <a list of 10 Patch objects>)"
      ]
     },
     "execution_count": 19,
     "metadata": {},
     "output_type": "execute_result"
    },
    {
     "data": {
      "image/png": "[encoded data removed]",
      "text/plain": [
       "<Figure size 432x288 with 1 Axes>"
      ]
     },
     "metadata": {},
     "output_type": "display_data"
    }
   ],
   "source": [
    "plt.hist(np.sqrt(train['TotalWorkingYears']))"
   ]
  },
  {
   "cell_type": "markdown",
   "metadata": {},
   "source": [
    "# Data Preprocessing"
   ]
  },
  {
   "cell_type": "code",
   "execution_count": 10,
   "metadata": {},
   "outputs": [],
   "source": [
    "# Normalising Data\n",
    "from sklearn.preprocessing import MinMaxScaler\n",
    "scaler=MinMaxScaler()"
   ]
  },
  {
   "cell_type": "code",
   "execution_count": null,
   "metadata": {},
   "outputs": [],
   "source": [
    "## Dropping Unnecessary Columns based on EDA"
   ]
  },
  {
   "cell_type": "code",
   "execution_count": 11,
   "metadata": {},
   "outputs": [],
   "source": [
    "train[['Age','DistanceFromHome','EmployeeNumber','YearsInCurrentRole','YearsSinceLastPromotion','YearsWithCurrManager','MonthlyIncome','TotalWorkingYears','YearsAtCompany']]=scaler.fit_transform(train[['Age','DistanceFromHome','EmployeeNumber','YearsInCurrentRole','YearsSinceLastPromotion','YearsWithCurrManager','MonthlyIncome','TotalWorkingYears','YearsAtCompany']])"
   ]
  },
  {
   "cell_type": "code",
   "execution_count": 12,
   "metadata": {
    "scrolled": true
   },
   "outputs": [],
   "source": [
    "test[['Age','DistanceFromHome','EmployeeNumber','YearsInCurrentRole','YearsSinceLastPromotion','YearsWithCurrManager','MonthlyIncome','TotalWorkingYears','YearsAtCompany']]=scaler.fit_transform(test[['Age','DistanceFromHome','EmployeeNumber','YearsInCurrentRole','YearsSinceLastPromotion','YearsWithCurrManager','MonthlyIncome','TotalWorkingYears','YearsAtCompany']])"
   ]
  },
  {
   "cell_type": "code",
   "execution_count": 13,
   "metadata": {},
   "outputs": [],
   "source": [
    "train2=train.drop(['Id','DistanceFromHome','EmployeeNumber','Gender','NumCompaniesWorked','PercentSalaryHike','PerformanceRating','TrainingTimesLastYear','YearsWithCurrManager','Behaviour','CommunicationSkill'],axis=1)\n",
    "test2=test.drop(['Id','DistanceFromHome','EmployeeNumber','Gender','NumCompaniesWorked','PercentSalaryHike','PerformanceRating','TrainingTimesLastYear','YearsWithCurrManager','Behaviour','CommunicationSkill'],axis=1)"
   ]
  },
  {
   "cell_type": "code",
   "execution_count": 14,
   "metadata": {},
   "outputs": [],
   "source": [
    "train3=pd.get_dummies(train, drop_first=True)"
   ]
  },
  {
   "cell_type": "code",
   "execution_count": 20,
   "metadata": {},
   "outputs": [],
   "source": [
    "X_test=pd.get_dummies(test, drop_first=True)"
   ]
  },
  {
   "cell_type": "code",
   "execution_count": 16,
   "metadata": {},
   "outputs": [],
   "source": [
    "y_train3=pd.Series(train.Attrition)\n",
    "train3.drop('Attrition', axis=1, inplace=True)"
   ]
  },
  {
   "cell_type": "code",
   "execution_count": 20,
   "metadata": {},
   "outputs": [],
   "source": [
    "#train4=train3.apply(np.sqrt, axis=0, raw=True)"
   ]
  },
  {
   "cell_type": "code",
   "execution_count": 23,
   "metadata": {},
   "outputs": [],
   "source": [
    "#X_test=X_test1.apply(np.sqrt, axis=0, raw=True)"
   ]
  },
  {
   "cell_type": "code",
   "execution_count": 28,
   "metadata": {},
   "outputs": [],
   "source": [
    "X_train, X_val, y_train, y_val=tts(train3,y_train3,test_size=0.2)"
   ]
  },
  {
   "cell_type": "code",
   "execution_count": 29,
   "metadata": {},
   "outputs": [
    {
     "data": {
      "text/plain": [
       "((1302, 42), (326, 42), (1302,), (326,))"
      ]
     },
     "execution_count": 29,
     "metadata": {},
     "output_type": "execute_result"
    }
   ],
   "source": [
    "X_train.shape, X_val.shape, y_train.shape, y_val.shape"
   ]
  },
  {
   "cell_type": "code",
   "execution_count": 17,
   "metadata": {},
   "outputs": [],
   "source": [
    "from sklearn.metrics import roc_auc_score"
   ]
  },
  {
   "cell_type": "code",
   "execution_count": 11,
   "metadata": {},
   "outputs": [
    {
     "name": "stderr",
     "output_type": "stream",
     "text": [
      "C:\\Users\\Herin Savla\\Anaconda3\\lib\\site-packages\\sklearn\\model_selection\\_search.py:849: FutureWarning: The parameter 'iid' is deprecated in 0.22 and will be removed in 0.24.\n",
      "  \"removed in 0.24.\", FutureWarning\n"
     ]
    },
    {
     "data": {
      "text/plain": [
       "({'learning_rate': 0.001, 'n_estimators': 100}, 0.7936800377536575)"
      ]
     },
     "execution_count": 11,
     "metadata": {},
     "output_type": "execute_result"
    }
   ],
   "source": [
    "from sklearn.ensemble import GradientBoostingClassifier\n",
    "from sklearn.metrics import classification_report\n",
    "from sklearn.model_selection import GridSearchCV\n",
    "\n",
    "\n",
    "p_test3 = {'learning_rate':[0.15,0.1,0.05,0.01,0.005,0.001], 'n_estimators':[100,250,500,750,1000,1250,1500,1750]}\n",
    "\n",
    "tuning = GridSearchCV(estimator =GradientBoostingClassifier(max_depth=4, min_samples_split=2, min_samples_leaf=1, subsample=1,max_features='sqrt', random_state=10), \n",
    "            param_grid = p_test3, scoring='accuracy',n_jobs=4,iid=False, cv=5)\n",
    "tuning.fit(train3,y_train3)\n",
    "tuning.best_params_, tuning.best_score_\n"
   ]
  },
  {
   "cell_type": "code",
   "execution_count": 12,
   "metadata": {},
   "outputs": [
    {
     "name": "stderr",
     "output_type": "stream",
     "text": [
      "C:\\Users\\Herin Savla\\Anaconda3\\lib\\site-packages\\sklearn\\model_selection\\_search.py:849: FutureWarning: The parameter 'iid' is deprecated in 0.22 and will be removed in 0.24.\n",
      "  \"removed in 0.24.\", FutureWarning\n"
     ]
    },
    {
     "data": {
      "text/plain": [
       "({'max_depth': 7}, 0.7825011798017933)"
      ]
     },
     "execution_count": 12,
     "metadata": {},
     "output_type": "execute_result"
    }
   ],
   "source": [
    "p_test2 = {'max_depth':[2,3,4,5,6,7] }\n",
    "tuning = GridSearchCV(estimator =GradientBoostingClassifier(learning_rate=0.01,n_estimators=1500, min_samples_split=2, min_samples_leaf=1, subsample=1,max_features='sqrt', random_state=10), \n",
    "            param_grid = p_test2, scoring='accuracy',n_jobs=4,iid=False, cv=5)\n",
    "tuning.fit(train3,y_train3)\n",
    "tuning.best_params_, tuning.best_score_"
   ]
  },
  {
   "cell_type": "code",
   "execution_count": 13,
   "metadata": {},
   "outputs": [
    {
     "name": "stdout",
     "output_type": "stream",
     "text": [
      "RUC_AUC score for GBC Trainig for  is0.9601355486547136\n"
     ]
    }
   ],
   "source": [
    "from sklearn.ensemble import GradientBoostingClassifier\n",
    "\n",
    "gb=GradientBoostingClassifier(max_depth=7,n_estimators=100,learning_rate=0.001)\n",
    "gb.fit(train3,y_train3)\n",
    "\n",
    "print('RUC_AUC score for GBC Trainig for  is'  +str(roc_auc_score(y_train3,gb.predict(train3))))"
   ]
  },
  {
   "cell_type": "code",
   "execution_count": 14,
   "metadata": {},
   "outputs": [],
   "source": [
    "gb_pred=gb.predict_proba(X_test)\n",
    "g=[]\n",
    "for i in gb_pred:\n",
    "        g.append(i[1])"
   ]
  },
  {
   "cell_type": "code",
   "execution_count": 15,
   "metadata": {},
   "outputs": [],
   "source": [
    "gbsub= pd.DataFrame({'ID':np.arange(1,471), 'Attrition':g}, index=None, columns=['ID','Attrition'])"
   ]
  },
  {
   "cell_type": "code",
   "execution_count": 16,
   "metadata": {},
   "outputs": [],
   "source": [
    "gbsub.to_csv('gb_sub3.csv', index=False)"
   ]
  },
  {
   "cell_type": "markdown",
   "metadata": {},
   "source": [
    "# Logistic Regression"
   ]
  },
  {
   "cell_type": "code",
   "execution_count": 18,
   "metadata": {},
   "outputs": [
    {
     "name": "stdout",
     "output_type": "stream",
     "text": [
      "Best: 0.883909 using {'C': 0.1, 'penalty': 'l2', 'solver': 'newton-cg'}\n",
      "0.875932 (0.024166) with: {'C': 100, 'penalty': 'l2', 'solver': 'newton-cg'}\n",
      "0.872857 (0.020506) with: {'C': 100, 'penalty': 'l2', 'solver': 'lbfgs'}\n",
      "0.877158 (0.024160) with: {'C': 100, 'penalty': 'l2', 'solver': 'liblinear'}\n",
      "0.876337 (0.023089) with: {'C': 10, 'penalty': 'l2', 'solver': 'newton-cg'}\n",
      "0.875108 (0.025446) with: {'C': 10, 'penalty': 'l2', 'solver': 'lbfgs'}\n",
      "0.878794 (0.022548) with: {'C': 10, 'penalty': 'l2', 'solver': 'liblinear'}\n",
      "0.881659 (0.019827) with: {'C': 1.0, 'penalty': 'l2', 'solver': 'newton-cg'}\n",
      "0.875521 (0.022856) with: {'C': 1.0, 'penalty': 'l2', 'solver': 'lbfgs'}\n",
      "0.879611 (0.020316) with: {'C': 1.0, 'penalty': 'l2', 'solver': 'liblinear'}\n",
      "0.883909 (0.023680) with: {'C': 0.1, 'penalty': 'l2', 'solver': 'newton-cg'}\n",
      "0.875105 (0.023404) with: {'C': 0.1, 'penalty': 'l2', 'solver': 'lbfgs'}\n",
      "0.881247 (0.023843) with: {'C': 0.1, 'penalty': 'l2', 'solver': 'liblinear'}\n",
      "0.871625 (0.024468) with: {'C': 0.01, 'penalty': 'l2', 'solver': 'newton-cg'}\n",
      "0.869995 (0.028171) with: {'C': 0.01, 'penalty': 'l2', 'solver': 'lbfgs'}\n",
      "0.870610 (0.028822) with: {'C': 0.01, 'penalty': 'l2', 'solver': 'liblinear'}\n"
     ]
    }
   ],
   "source": [
    "# example of grid searching key hyperparametres for logistic regression\n",
    "from sklearn.metrics import roc_auc_score\n",
    "from sklearn.model_selection import RepeatedStratifiedKFold\n",
    "from sklearn.model_selection import GridSearchCV\n",
    "from sklearn.linear_model import LogisticRegression\n",
    "\n",
    "# define models and parameters\n",
    "model = LogisticRegression()\n",
    "solvers = ['newton-cg', 'lbfgs', 'liblinear']\n",
    "penalty = ['l2']\n",
    "c_values = [100, 10, 1.0, 0.1, 0.01]\n",
    "# define grid search\n",
    "grid = dict(solver=solvers,penalty=penalty,C=c_values)\n",
    "cv = RepeatedStratifiedKFold(n_splits=10, n_repeats=3, random_state=1)\n",
    "grid_search = GridSearchCV(estimator=model, param_grid=grid, n_jobs=-1, cv=cv, scoring='accuracy',error_score=0)\n",
    "grid_result = grid_search.fit(train3, y_train3)\n",
    "# summarize results\n",
    "print(\"Best: %f using %s\" % (grid_result.best_score_, grid_result.best_params_))\n",
    "means = grid_result.cv_results_['mean_test_score']\n",
    "stds = grid_result.cv_results_['std_test_score']\n",
    "params = grid_result.cv_results_['params']\n",
    "for mean, stdev, param in zip(means, stds, params):\n",
    "    print(\"%f (%f) with: %r\" % (mean, stdev, param))"
   ]
  },
  {
   "cell_type": "code",
   "execution_count": 19,
   "metadata": {},
   "outputs": [
    {
     "name": "stdout",
     "output_type": "stream",
     "text": [
      "RUC_AUC score for Logistic Regression Trainig for  is0.8883740961534102\n",
      "\n",
      "\n"
     ]
    }
   ],
   "source": [
    "\n",
    "C_range=[0.01,0.1,1,10,100]\n",
    "solvers = ['newton-cg', 'lbfgs', 'liblinear']\n",
    "max_itera=[10,100,1000,1500]\n",
    "\n",
    "#for i in max_itera:\n",
    "lr=LogisticRegression(C=0.1,random_state=0,solver='newton-cg',penalty='l2',max_iter=100)\n",
    "lr.fit(train3,y_train3)\n",
    "print('RUC_AUC score for Logistic Regression Trainig for  is'  +str(roc_auc_score(y_train3,lr.predict(train3))))\n",
    "#print('RUC_AUC score for Logistic Regression Validation for is'   +str(roc_auc_score(y_val,lr.predict(X_val))))\n",
    "print('\\n')"
   ]
  },
  {
   "cell_type": "code",
   "execution_count": 15,
   "metadata": {},
   "outputs": [],
   "source": [
    "lr_pred=lr.predict_proba(X_test)\n",
    "r=[]\n",
    "for i in lr_pred:\n",
    "        r.append(i[1])"
   ]
  },
  {
   "cell_type": "code",
   "execution_count": 16,
   "metadata": {},
   "outputs": [],
   "source": [
    "sub1= pd.DataFrame({'ID':np.arange(1,471), 'Attrition':r}, index=None, columns=['ID','Attrition'])"
   ]
  },
  {
   "cell_type": "code",
   "execution_count": 17,
   "metadata": {},
   "outputs": [],
   "source": [
    "sub1.to_csv('lr_sub11.csv', index=False)"
   ]
  },
  {
   "cell_type": "markdown",
   "metadata": {},
   "source": [
    "# Decision Trees"
   ]
  },
  {
   "cell_type": "code",
   "execution_count": 17,
   "metadata": {},
   "outputs": [
    {
     "name": "stdout",
     "output_type": "stream",
     "text": [
      "RUC_AUC score for Decision Tree Trainig  is0.9292476102374345\n",
      "RUC_AUC score for Decision Tree Validation is0.9022759505639225\n"
     ]
    }
   ],
   "source": [
    "from sklearn.tree import DecisionTreeClassifier\n",
    "\n",
    "dt=DecisionTreeClassifier(max_depth=5,random_state=0)\n",
    "dt.fit(X_train,y_train)\n",
    "print('RUC_AUC score for Decision Tree Trainig  is'+str(roc_auc_score(y_train,dt.predict(X_train))))\n",
    "print('RUC_AUC score for Decision Tree Validation is'+str(roc_auc_score(y_val,dt.predict(X_val))))"
   ]
  },
  {
   "cell_type": "code",
   "execution_count": 14,
   "metadata": {},
   "outputs": [],
   "source": [
    "dt_pred=dt.predict_proba(X_test)\n",
    "d=[]\n",
    "for i in dt_pred:\n",
    "        d.append(i[1])"
   ]
  },
  {
   "cell_type": "code",
   "execution_count": 15,
   "metadata": {},
   "outputs": [],
   "source": [
    "from sklearn.metrics import roc_curve,auc"
   ]
  },
  {
   "cell_type": "code",
   "execution_count": 16,
   "metadata": {},
   "outputs": [
    {
     "data": {
      "image/png": "[encoded data removed]",
      "text/plain": [
       "<Figure size 432x288 with 1 Axes>"
      ]
     },
     "metadata": {
      "needs_background": "light"
     },
     "output_type": "display_data"
    }
   ],
   "source": [
    "max_depths = np.linspace(1, 32, 32, endpoint=True)\n",
    "train_results = []\n",
    "test_results = []\n",
    "for max_depth in max_depths:\n",
    "    dt2 = DecisionTreeClassifier(max_depth=max_depth)\n",
    "    dt2.fit(X_train, y_train)\n",
    "    train_pred = dt2.predict(X_train)\n",
    "    false_positive_rate, true_positive_rate, thresholds = roc_curve(y_train, train_pred)\n",
    "    roc_auc = auc(false_positive_rate, true_positive_rate)\n",
    "   # Add auc score to previous train results\n",
    "    train_results.append(roc_auc)\n",
    "    y_pred = dt2.predict(X_val)\n",
    "    false_positive_rate, true_positive_rate, thresholds = roc_curve(y_val, y_pred)\n",
    "    roc_auc = auc(false_positive_rate, true_positive_rate)\n",
    "   # Add auc score to previous test results\n",
    "    test_results.append(roc_auc)\n",
    "from matplotlib.legend_handler import HandlerLine2D\n",
    "line1, = plt.plot(max_depths, train_results, label='Train AUC')\n",
    "line2, = plt.plot(max_depths, test_results, label='Test AUC')\n",
    "plt.legend(handler_map={line1: HandlerLine2D(numpoints=2)})\n",
    "plt.ylabel('AUC score')\n",
    "plt.xlabel('Tree depth')\n",
    "plt.show()"
   ]
  },
  {
   "cell_type": "code",
   "execution_count": 18,
   "metadata": {},
   "outputs": [],
   "source": [
    "sub3= pd.DataFrame({'ID':np.arange(1,471), 'Attrition':d}, index=None, columns=['ID','Attrition'])"
   ]
  },
  {
   "cell_type": "code",
   "execution_count": 19,
   "metadata": {},
   "outputs": [],
   "source": [
    "sub3.to_csv('dt_sub4.csv', index=False)"
   ]
  },
  {
   "cell_type": "markdown",
   "metadata": {},
   "source": [
    "# Random Forest"
   ]
  },
  {
   "cell_type": "code",
   "execution_count": 21,
   "metadata": {},
   "outputs": [
    {
     "name": "stdout",
     "output_type": "stream",
     "text": [
      "Best: 0.952712 using {'max_features': 'log2', 'n_estimators': 1000}\n",
      "0.926307 (0.023422) with: {'max_features': 'sqrt', 'n_estimators': 10}\n",
      "0.938788 (0.017798) with: {'max_features': 'sqrt', 'n_estimators': 100}\n",
      "0.940426 (0.017917) with: {'max_features': 'sqrt', 'n_estimators': 1000}\n",
      "0.936730 (0.022892) with: {'max_features': 'log2', 'n_estimators': 10}\n",
      "0.949850 (0.018334) with: {'max_features': 'log2', 'n_estimators': 100}\n",
      "0.952712 (0.015762) with: {'max_features': 'log2', 'n_estimators': 1000}\n"
     ]
    }
   ],
   "source": [
    "# example of grid searching key hyperparameters for RandomForestClassifier\n",
    "\n",
    "from sklearn.model_selection import RepeatedStratifiedKFold\n",
    "from sklearn.model_selection import GridSearchCV\n",
    "from sklearn.ensemble import RandomForestClassifier\n",
    "\n",
    "# define models and parameters\n",
    "model = RandomForestClassifier()\n",
    "n_estimators = [10, 100, 1000]\n",
    "max_features = ['sqrt', 'log2']\n",
    "# define grid search\n",
    "grid = dict(n_estimators=n_estimators,max_features=max_features)\n",
    "cv = RepeatedStratifiedKFold(n_splits=10, n_repeats=3, random_state=1)\n",
    "grid_search = GridSearchCV(estimator=model, param_grid=grid, n_jobs=-1, cv=cv, scoring='accuracy',error_score=0)\n",
    "grid_result = grid_search.fit(train3, y_train3)\n",
    "# summarize results\n",
    "print(\"Best: %f using %s\" % (grid_result.best_score_, grid_result.best_params_))\n",
    "means = grid_result.cv_results_['mean_test_score']\n",
    "stds = grid_result.cv_results_['std_test_score']\n",
    "params = grid_result.cv_results_['params']\n",
    "for mean, stdev, param in zip(means, stds, params):\n",
    "    print(\"%f (%f) with: %r\" % (mean, stdev, param))"
   ]
  },
  {
   "cell_type": "code",
   "execution_count": 22,
   "metadata": {
    "scrolled": true
   },
   "outputs": [
    {
     "name": "stdout",
     "output_type": "stream",
     "text": [
      "RUC_AUC score for Random Forest Training  is1.0\n"
     ]
    }
   ],
   "source": [
    "from sklearn.ensemble import RandomForestClassifier\n",
    "\n",
    "rf=RandomForestClassifier(random_state=0,max_features='log2',n_estimators=1000)\n",
    "rf.fit(train3,y_train3)\n",
    "print('RUC_AUC score for Random Forest Training  is'+str(roc_auc_score(y_train3,rf.predict(train3))))\n",
    "#print('RUC_AUC score for Random Forest Validation is'+str(roc_auc_score(y_val,rf.predict(X_val))))\n"
   ]
  },
  {
   "cell_type": "code",
   "execution_count": 21,
   "metadata": {},
   "outputs": [],
   "source": [
    "rf_pred=rf.predict_proba(X_test)\n",
    "r=[]\n",
    "for i in rf_pred:\n",
    "        r.append(i[1])        "
   ]
  },
  {
   "cell_type": "code",
   "execution_count": 22,
   "metadata": {},
   "outputs": [],
   "source": [
    "rf_sub= pd.DataFrame({'ID':np.arange(1,471), 'Attrition':r}, index=None, columns=['ID','Attrition'])"
   ]
  },
  {
   "cell_type": "code",
   "execution_count": 23,
   "metadata": {},
   "outputs": [],
   "source": [
    "rf_sub.to_csv('rf_sub6.csv', index=False)"
   ]
  },
  {
   "cell_type": "markdown",
   "metadata": {},
   "source": [
    "# SVC"
   ]
  },
  {
   "cell_type": "code",
   "execution_count": 23,
   "metadata": {},
   "outputs": [
    {
     "name": "stdout",
     "output_type": "stream",
     "text": [
      "Best: 0.895581 using {'C': 50, 'gamma': 'scale', 'kernel': 'rbf'}\n",
      "0.884530 (0.022454) with: {'C': 50, 'gamma': 'scale', 'kernel': 'poly'}\n",
      "0.895581 (0.020540) with: {'C': 50, 'gamma': 'scale', 'kernel': 'rbf'}\n",
      "0.311876 (0.040253) with: {'C': 50, 'gamma': 'scale', 'kernel': 'sigmoid'}\n",
      "0.881873 (0.023870) with: {'C': 10, 'gamma': 'scale', 'kernel': 'poly'}\n",
      "0.894763 (0.021240) with: {'C': 10, 'gamma': 'scale', 'kernel': 'rbf'}\n",
      "0.312286 (0.040082) with: {'C': 10, 'gamma': 'scale', 'kernel': 'sigmoid'}\n",
      "0.881052 (0.024235) with: {'C': 1.0, 'gamma': 'scale', 'kernel': 'poly'}\n",
      "0.890670 (0.022864) with: {'C': 1.0, 'gamma': 'scale', 'kernel': 'rbf'}\n",
      "0.317001 (0.041658) with: {'C': 1.0, 'gamma': 'scale', 'kernel': 'sigmoid'}\n",
      "0.882688 (0.023977) with: {'C': 0.1, 'gamma': 'scale', 'kernel': 'poly'}\n",
      "0.883713 (0.023631) with: {'C': 0.1, 'gamma': 'scale', 'kernel': 'rbf'}\n",
      "0.354471 (0.043544) with: {'C': 0.1, 'gamma': 'scale', 'kernel': 'sigmoid'}\n",
      "0.894561 (0.021250) with: {'C': 0.01, 'gamma': 'scale', 'kernel': 'poly'}\n",
      "0.877371 (0.025667) with: {'C': 0.01, 'gamma': 'scale', 'kernel': 'rbf'}\n",
      "0.604039 (0.035980) with: {'C': 0.01, 'gamma': 'scale', 'kernel': 'sigmoid'}\n"
     ]
    }
   ],
   "source": [
    "# example of grid searching key hyperparametres for SVC\n",
    "\n",
    "from sklearn.model_selection import RepeatedStratifiedKFold\n",
    "from sklearn.model_selection import GridSearchCV\n",
    "from sklearn.svm import SVC\n",
    "# define dataset\n",
    "\n",
    "model = SVC()\n",
    "kernel = ['poly', 'rbf', 'sigmoid']\n",
    "C = [50, 10, 1.0, 0.1, 0.01]\n",
    "gamma = ['scale']\n",
    "# define grid search\n",
    "grid = dict(kernel=kernel,C=C,gamma=gamma)\n",
    "cv = RepeatedStratifiedKFold(n_splits=10, n_repeats=3, random_state=1)\n",
    "grid_search = GridSearchCV(estimator=model, param_grid=grid, n_jobs=-1, cv=cv, scoring='accuracy',error_score=0)\n",
    "grid_result = grid_search.fit(train3, y_train3)\n",
    "# summarize results\n",
    "print(\"Best: %f using %s\" % (grid_result.best_score_, grid_result.best_params_))\n",
    "means = grid_result.cv_results_['mean_test_score']\n",
    "stds = grid_result.cv_results_['std_test_score']\n",
    "params = grid_result.cv_results_['params']\n",
    "for mean, stdev, param in zip(means, stds, params):\n",
    "    print(\"%f (%f) with: %r\" % (mean, stdev, param))"
   ]
  },
  {
   "cell_type": "code",
   "execution_count": 24,
   "metadata": {},
   "outputs": [
    {
     "name": "stdout",
     "output_type": "stream",
     "text": [
      "RUC_AUC score for SVM Training  is0.8930578537374103\n",
      "\n",
      "\n"
     ]
    }
   ],
   "source": [
    "from sklearn.svm import SVC\n",
    "C_range=[0.01,0.1,1,10,100,1000,10000]\n",
    "gammas = [0.1, 1, 10, 100]\n",
    "degrees = [0, 1, 2, 3, 4, 5, 6]\n",
    "\n",
    "#for i in degrees:\n",
    "svc=SVC(random_state=0,probability=True,C=50,gamma='scale',kernel='rbf')\n",
    "svc.fit(train3,y_train3)\n",
    "print('RUC_AUC score for SVM Training  is' +str(roc_auc_score(y_train3,svc.predict(train3))))\n",
    "print('\\n')"
   ]
  },
  {
   "cell_type": "code",
   "execution_count": 27,
   "metadata": {},
   "outputs": [],
   "source": [
    "svc_pred=svc.predict_proba(X_test)\n",
    "s=[]\n",
    "for i in svc_pred:\n",
    "        s.append(i[1])"
   ]
  },
  {
   "cell_type": "code",
   "execution_count": 28,
   "metadata": {},
   "outputs": [],
   "source": [
    "svc_sub= pd.DataFrame({'ID':np.arange(1,471), 'Attrition':s}, index=None, columns=['ID','Attrition'])"
   ]
  },
  {
   "cell_type": "code",
   "execution_count": 29,
   "metadata": {},
   "outputs": [],
   "source": [
    "svc_sub.to_csv('svc_sub9.csv', index=False)"
   ]
  },
  {
   "cell_type": "markdown",
   "metadata": {},
   "source": [
    "# Let's do KNN"
   ]
  },
  {
   "cell_type": "code",
   "execution_count": 29,
   "metadata": {},
   "outputs": [
    {
     "name": "stdout",
     "output_type": "stream",
     "text": [
      "Best: 0.899888 using {'metric': 'euclidean', 'n_neighbors': 19, 'weights': 'uniform'}\n",
      "0.837931 (0.028336) with: {'metric': 'euclidean', 'n_neighbors': 1, 'weights': 'uniform'}\n",
      "0.837931 (0.028336) with: {'metric': 'euclidean', 'n_neighbors': 1, 'weights': 'distance'}\n",
      "0.872251 (0.026992) with: {'metric': 'euclidean', 'n_neighbors': 3, 'weights': 'uniform'}\n",
      "0.872251 (0.026992) with: {'metric': 'euclidean', 'n_neighbors': 3, 'weights': 'distance'}\n",
      "0.882738 (0.023573) with: {'metric': 'euclidean', 'n_neighbors': 5, 'weights': 'uniform'}\n",
      "0.883251 (0.024504) with: {'metric': 'euclidean', 'n_neighbors': 5, 'weights': 'distance'}\n",
      "0.890159 (0.022761) with: {'metric': 'euclidean', 'n_neighbors': 7, 'weights': 'uniform'}\n",
      "0.891186 (0.022817) with: {'metric': 'euclidean', 'n_neighbors': 7, 'weights': 'distance'}\n",
      "0.894259 (0.022439) with: {'metric': 'euclidean', 'n_neighbors': 9, 'weights': 'uniform'}\n",
      "0.894261 (0.022944) with: {'metric': 'euclidean', 'n_neighbors': 9, 'weights': 'distance'}\n",
      "0.898097 (0.021840) with: {'metric': 'euclidean', 'n_neighbors': 11, 'weights': 'uniform'}\n",
      "0.897076 (0.022512) with: {'metric': 'euclidean', 'n_neighbors': 11, 'weights': 'distance'}\n",
      "0.899632 (0.021117) with: {'metric': 'euclidean', 'n_neighbors': 13, 'weights': 'uniform'}\n",
      "0.899121 (0.021373) with: {'metric': 'euclidean', 'n_neighbors': 13, 'weights': 'distance'}\n",
      "0.899376 (0.021435) with: {'metric': 'euclidean', 'n_neighbors': 15, 'weights': 'uniform'}\n",
      "0.899121 (0.021281) with: {'metric': 'euclidean', 'n_neighbors': 15, 'weights': 'distance'}\n",
      "0.899376 (0.021343) with: {'metric': 'euclidean', 'n_neighbors': 17, 'weights': 'uniform'}\n",
      "0.898352 (0.021374) with: {'metric': 'euclidean', 'n_neighbors': 17, 'weights': 'distance'}\n",
      "0.899888 (0.021166) with: {'metric': 'euclidean', 'n_neighbors': 19, 'weights': 'uniform'}\n",
      "0.899378 (0.021336) with: {'metric': 'euclidean', 'n_neighbors': 19, 'weights': 'distance'}\n",
      "0.852014 (0.028991) with: {'metric': 'manhattan', 'n_neighbors': 1, 'weights': 'uniform'}\n",
      "0.852014 (0.028991) with: {'metric': 'manhattan', 'n_neighbors': 1, 'weights': 'distance'}\n",
      "0.880168 (0.027727) with: {'metric': 'manhattan', 'n_neighbors': 3, 'weights': 'uniform'}\n",
      "0.880168 (0.027727) with: {'metric': 'manhattan', 'n_neighbors': 3, 'weights': 'distance'}\n",
      "0.891951 (0.025513) with: {'metric': 'manhattan', 'n_neighbors': 5, 'weights': 'uniform'}\n",
      "0.890671 (0.026183) with: {'metric': 'manhattan', 'n_neighbors': 5, 'weights': 'distance'}\n",
      "0.893744 (0.024252) with: {'metric': 'manhattan', 'n_neighbors': 7, 'weights': 'uniform'}\n",
      "0.893488 (0.024468) with: {'metric': 'manhattan', 'n_neighbors': 7, 'weights': 'distance'}\n",
      "0.897072 (0.022968) with: {'metric': 'manhattan', 'n_neighbors': 9, 'weights': 'uniform'}\n",
      "0.897072 (0.022796) with: {'metric': 'manhattan', 'n_neighbors': 9, 'weights': 'distance'}\n",
      "0.898608 (0.021983) with: {'metric': 'manhattan', 'n_neighbors': 11, 'weights': 'uniform'}\n",
      "0.898865 (0.021407) with: {'metric': 'manhattan', 'n_neighbors': 11, 'weights': 'distance'}\n",
      "0.898865 (0.022132) with: {'metric': 'manhattan', 'n_neighbors': 13, 'weights': 'uniform'}\n",
      "0.898865 (0.022132) with: {'metric': 'manhattan', 'n_neighbors': 13, 'weights': 'distance'}\n",
      "0.899119 (0.022284) with: {'metric': 'manhattan', 'n_neighbors': 15, 'weights': 'uniform'}\n",
      "0.899376 (0.021709) with: {'metric': 'manhattan', 'n_neighbors': 15, 'weights': 'distance'}\n",
      "0.899119 (0.022284) with: {'metric': 'manhattan', 'n_neighbors': 17, 'weights': 'uniform'}\n",
      "0.899376 (0.021709) with: {'metric': 'manhattan', 'n_neighbors': 17, 'weights': 'distance'}\n",
      "0.899376 (0.022336) with: {'metric': 'manhattan', 'n_neighbors': 19, 'weights': 'uniform'}\n",
      "0.899632 (0.021761) with: {'metric': 'manhattan', 'n_neighbors': 19, 'weights': 'distance'}\n",
      "0.837931 (0.028336) with: {'metric': 'minkowski', 'n_neighbors': 1, 'weights': 'uniform'}\n",
      "0.837931 (0.028336) with: {'metric': 'minkowski', 'n_neighbors': 1, 'weights': 'distance'}\n",
      "0.872251 (0.026992) with: {'metric': 'minkowski', 'n_neighbors': 3, 'weights': 'uniform'}\n",
      "0.872251 (0.026992) with: {'metric': 'minkowski', 'n_neighbors': 3, 'weights': 'distance'}\n",
      "0.882738 (0.023573) with: {'metric': 'minkowski', 'n_neighbors': 5, 'weights': 'uniform'}\n",
      "0.883251 (0.024504) with: {'metric': 'minkowski', 'n_neighbors': 5, 'weights': 'distance'}\n",
      "0.890159 (0.022761) with: {'metric': 'minkowski', 'n_neighbors': 7, 'weights': 'uniform'}\n",
      "0.891186 (0.022817) with: {'metric': 'minkowski', 'n_neighbors': 7, 'weights': 'distance'}\n",
      "0.894259 (0.022439) with: {'metric': 'minkowski', 'n_neighbors': 9, 'weights': 'uniform'}\n",
      "0.894261 (0.022944) with: {'metric': 'minkowski', 'n_neighbors': 9, 'weights': 'distance'}\n",
      "0.898097 (0.021840) with: {'metric': 'minkowski', 'n_neighbors': 11, 'weights': 'uniform'}\n",
      "0.897076 (0.022512) with: {'metric': 'minkowski', 'n_neighbors': 11, 'weights': 'distance'}\n",
      "0.899632 (0.021117) with: {'metric': 'minkowski', 'n_neighbors': 13, 'weights': 'uniform'}\n",
      "0.899121 (0.021373) with: {'metric': 'minkowski', 'n_neighbors': 13, 'weights': 'distance'}\n",
      "0.899376 (0.021435) with: {'metric': 'minkowski', 'n_neighbors': 15, 'weights': 'uniform'}\n",
      "0.899121 (0.021281) with: {'metric': 'minkowski', 'n_neighbors': 15, 'weights': 'distance'}\n",
      "0.899376 (0.021343) with: {'metric': 'minkowski', 'n_neighbors': 17, 'weights': 'uniform'}\n",
      "0.898352 (0.021374) with: {'metric': 'minkowski', 'n_neighbors': 17, 'weights': 'distance'}\n",
      "0.899888 (0.021166) with: {'metric': 'minkowski', 'n_neighbors': 19, 'weights': 'uniform'}\n",
      "0.899378 (0.021336) with: {'metric': 'minkowski', 'n_neighbors': 19, 'weights': 'distance'}\n"
     ]
    }
   ],
   "source": [
    "# example of grid searching key hyperparametres for KNeighborsClassifier\n",
    "from sklearn.datasets import make_blobs\n",
    "from sklearn.model_selection import RepeatedStratifiedKFold\n",
    "from sklearn.model_selection import GridSearchCV\n",
    "from sklearn.neighbors import KNeighborsClassifier\n",
    "# define dataset\n",
    "#X, y = make_blobs(n_samples=1000, centers=2, n_features=100, cluster_std=20)\n",
    "# define models and parameters\n",
    "modelk = KNeighborsClassifier()\n",
    "n_neighbors = range(1, 21, 2)\n",
    "weights = ['uniform', 'distance']\n",
    "metric = ['euclidean', 'manhattan', 'minkowski']\n",
    "# define grid search\n",
    "grid = dict(n_neighbors=n_neighbors,weights=weights,metric=metric)\n",
    "cv = RepeatedStratifiedKFold(n_splits=10, n_repeats=3, random_state=1)\n",
    "grid_search = GridSearchCV(estimator=modelk, param_grid=grid, n_jobs=-1, cv=cv, scoring='accuracy',error_score=0)\n",
    "grid_result = grid_search.fit(X_train, y_train)\n",
    "# summarize results\n",
    "print(\"Best: %f using %s\" % (grid_result.best_score_, grid_result.best_params_))\n",
    "means = grid_result.cv_results_['mean_test_score']\n",
    "stds = grid_result.cv_results_['std_test_score']\n",
    "params = grid_result.cv_results_['params']\n",
    "for mean, stdev, param in zip(means, stds, params):\n",
    "    print(\"%f (%f) with: %r\" % (mean, stdev, param))"
   ]
  },
  {
   "cell_type": "code",
   "execution_count": 30,
   "metadata": {},
   "outputs": [
    {
     "name": "stdout",
     "output_type": "stream",
     "text": [
      "RUC_AUC score for KNN Training  is0.896061447562777\n",
      "RUC_AUC score for KNN Validation is0.9125\n"
     ]
    }
   ],
   "source": [
    "from sklearn.neighbors import KNeighborsClassifier\n",
    "\n",
    "neigh = KNeighborsClassifier(weights='uniform',metric='euclidean',n_neighbors=19)\n",
    "neigh.fit(X_train, y_train)\n",
    "\n",
    "print('RUC_AUC score for KNN Training  is' +str(roc_auc_score(y_train,neigh.predict(X_train))))\n",
    "print('RUC_AUC score for KNN Validation is' +str(roc_auc_score(y_val,neigh.predict(X_val))))"
   ]
  },
  {
   "cell_type": "code",
   "execution_count": 31,
   "metadata": {
    "scrolled": true
   },
   "outputs": [],
   "source": [
    "knn_pred=neigh.predict_proba(X_test)\n",
    "k=[]\n",
    "for i in knn_pred:\n",
    "        k.append(i[1]);"
   ]
  },
  {
   "cell_type": "code",
   "execution_count": 32,
   "metadata": {},
   "outputs": [],
   "source": [
    "knn_sub= pd.DataFrame({'ID':np.arange(1,471), 'Attrition':k}, index=None, columns=['ID','Attrition'])"
   ]
  },
  {
   "cell_type": "code",
   "execution_count": 33,
   "metadata": {},
   "outputs": [],
   "source": [
    "knn_sub.to_csv('knn_sub3.csv', index=False)"
   ]
  },
  {
   "cell_type": "markdown",
   "metadata": {},
   "source": [
    "# Stacking"
   ]
  },
  {
   "cell_type": "code",
   "execution_count": 10,
   "metadata": {},
   "outputs": [
    {
     "data": {
      "text/plain": [
       "((1628, 42), (1628,), (470, 42))"
      ]
     },
     "execution_count": 10,
     "metadata": {},
     "output_type": "execute_result"
    }
   ],
   "source": [
    "train3.shape, y_train3.shape, X_test.shape"
   ]
  },
  {
   "cell_type": "code",
   "execution_count": 25,
   "metadata": {},
   "outputs": [
    {
     "data": {
      "text/plain": [
       "StackingClassifier(cv=5,\n",
       "                   estimators=[('svm',\n",
       "                                SVC(C=50, probability=True, random_state=0)),\n",
       "                               ('rf',\n",
       "                                RandomForestClassifier(max_features='log2',\n",
       "                                                       n_estimators=1000,\n",
       "                                                       random_state=0))],\n",
       "                   final_estimator=LogisticRegression(C=10, max_iter=1000,\n",
       "                                                      random_state=0,\n",
       "                                                      solver='liblinear'),\n",
       "                   stack_method='predict_proba')"
      ]
     },
     "execution_count": 25,
     "metadata": {},
     "output_type": "execute_result"
    }
   ],
   "source": [
    "# make a prediction with a stacking ensemble\n",
    "\n",
    "from sklearn.ensemble import StackingClassifier\n",
    "from sklearn.linear_model import LogisticRegression\n",
    "from sklearn.ensemble import RandomForestClassifier\n",
    "\n",
    "from sklearn.tree import DecisionTreeClassifier\n",
    "from sklearn.svm import SVC\n",
    "\n",
    "# define the base models\n",
    "level0 = list()\n",
    "level0.append(('svm', SVC(random_state=0,probability=True,C=50,gamma='scale',kernel='rbf')))\n",
    "level0.append(('rf', RandomForestClassifier(random_state=0,max_features='log2',n_estimators=1000)))\n",
    "# define meta learner model\n",
    "level1 = LogisticRegression(C=10,random_state=0,solver='liblinear',penalty='l2',max_iter=1000)\n",
    "# define the stacking ensemble\n",
    "model = StackingClassifier(estimators=level0, final_estimator=level1, cv=5, stack_method='predict_proba')\n",
    "# fit the model on all available data\n",
    "model.fit(train3, y_train3)\n"
   ]
  },
  {
   "cell_type": "code",
   "execution_count": 26,
   "metadata": {},
   "outputs": [],
   "source": [
    "stack_pred=model.predict_proba(X_test)\n",
    "stack=[]\n",
    "for i in stack_pred:\n",
    "        stack.append(i[1])"
   ]
  },
  {
   "cell_type": "code",
   "execution_count": 27,
   "metadata": {},
   "outputs": [],
   "source": [
    "stack_sub= pd.DataFrame({'ID':np.arange(1,471), 'Attrition':stack}, index=None, columns=['ID','Attrition'])"
   ]
  },
  {
   "cell_type": "code",
   "execution_count": 29,
   "metadata": {},
   "outputs": [],
   "source": [
    "stack_sub.to_csv('stack_7.csv', index=False)"
   ]
  },
  {
   "cell_type": "code",
   "execution_count": 11,
   "metadata": {
    "scrolled": true
   },
   "outputs": [
    {
     "name": "stdout",
     "output_type": "stream",
     "text": [
      "WARNING:tensorflow:From C:\\Users\\Herin Savla\\Anaconda3\\lib\\site-packages\\tensorflow\\python\\ops\\math_ops.py:3066: to_int32 (from tensorflow.python.ops.math_ops) is deprecated and will be removed in a future version.\n",
      "Instructions for updating:\n",
      "Use tf.cast instead.\n",
      "Epoch 1/25\n",
      "1628/1628 [==============================] - 2s 955us/sample - loss: 0.5974 - acc: 0.6769s - loss: 0.641\n",
      "Epoch 2/25\n",
      "1628/1628 [==============================] - 1s 873us/sample - loss: 0.4940 - acc: 0.7549\n",
      "Epoch 3/25\n",
      "1628/1628 [==============================] - 1s 827us/sample - loss: 0.4704 - acc: 0.7672\n",
      "Epoch 4/25\n",
      "1628/1628 [==============================] - 1s 823us/sample - loss: 0.4494 - acc: 0.7912\n",
      "Epoch 5/25\n",
      "1628/1628 [==============================] - 1s 841us/sample - loss: 0.4358 - acc: 0.7998\n",
      "Epoch 6/25\n",
      "1628/1628 [==============================] - 1s 822us/sample - loss: 0.4186 - acc: 0.8170\n",
      "Epoch 7/25\n",
      "1628/1628 [==============================] - 1s 852us/sample - loss: 0.4108 - acc: 0.8237\n",
      "Epoch 8/25\n",
      "1628/1628 [==============================] - 1s 828us/sample - loss: 0.3953 - acc: 0.8249\n",
      "Epoch 9/25\n",
      "1628/1628 [==============================] - 1s 824us/sample - loss: 0.3836 - acc: 0.8280\n",
      "Epoch 10/25\n",
      "1628/1628 [==============================] - 1s 830us/sample - loss: 0.3815 - acc: 0.8299\n",
      "Epoch 11/25\n",
      "1628/1628 [==============================] - 2s 927us/sample - loss: 0.3681 - acc: 0.8428s - loss: 0.3692 - acc: 0.84\n",
      "Epoch 12/25\n",
      "1628/1628 [==============================] - 1s 823us/sample - loss: 0.3605 - acc: 0.8366\n",
      "Epoch 13/25\n",
      "1628/1628 [==============================] - 1s 833us/sample - loss: 0.3523 - acc: 0.8421\n",
      "Epoch 14/25\n",
      "1628/1628 [==============================] - 1s 834us/sample - loss: 0.3379 - acc: 0.8624\n",
      "Epoch 15/25\n",
      "1628/1628 [==============================] - 1s 833us/sample - loss: 0.3317 - acc: 0.8618\n",
      "Epoch 16/25\n",
      "1628/1628 [==============================] - 1s 822us/sample - loss: 0.3268 - acc: 0.8618\n",
      "Epoch 17/25\n",
      "1628/1628 [==============================] - 1s 831us/sample - loss: 0.3193 - acc: 0.8618\n",
      "Epoch 18/25\n",
      "1628/1628 [==============================] - 1s 819us/sample - loss: 0.3123 - acc: 0.8661\n",
      "Epoch 19/25\n",
      "1628/1628 [==============================] - 2s 923us/sample - loss: 0.2974 - acc: 0.8729\n",
      "Epoch 20/25\n",
      "1628/1628 [==============================] - 2s 976us/sample - loss: 0.2991 - acc: 0.8784\n",
      "Epoch 21/25\n",
      "1628/1628 [==============================] - 2s 975us/sample - loss: 0.2875 - acc: 0.8802\n",
      "Epoch 22/25\n",
      "1628/1628 [==============================] - 2s 981us/sample - loss: 0.2854 - acc: 0.8814\n",
      "Epoch 23/25\n",
      "1628/1628 [==============================] - 2s 1ms/sample - loss: 0.2754 - acc: 0.8876\n",
      "Epoch 24/25\n",
      "1628/1628 [==============================] - 2s 964us/sample - loss: 0.2649 - acc: 0.8950\n",
      "Epoch 25/25\n",
      "1628/1628 [==============================] - 2s 948us/sample - loss: 0.2530 - acc: 0.9023\n"
     ]
    },
    {
     "data": {
      "text/plain": [
       "<tensorflow.python.keras.callbacks.History at 0x223f8b15b38>"
      ]
     },
     "execution_count": 11,
     "metadata": {},
     "output_type": "execute_result"
    }
   ],
   "source": [
    "import tensorflow as tf\n",
    "from tensorflow import keras\n",
    "from sklearn.model_selection import train_test_split\n",
    "\n",
    "#X_train, X_test, y_train, y_test = train_test_split(X, y, test_size=0.3, random_state=0)\n",
    "\n",
    "model = keras.Sequential([\n",
    "    keras.layers.Flatten(input_shape=(31,)),\n",
    "    keras.layers.Dense(16, activation=tf.nn.relu),\n",
    "\tkeras.layers.Dense(16, activation=tf.nn.relu),\n",
    "    keras.layers.Dense(1, activation=tf.nn.sigmoid),\n",
    "])\n",
    "\n",
    "model.compile(optimizer='adam',\n",
    "              loss='binary_crossentropy',\n",
    "              metrics=['accuracy'])\n",
    "\n",
    "model.fit(train3, y_train3, epochs=25, batch_size=1)\n",
    "\n",
    "#test_loss, test_acc = model.evaluate(train3, y_train3)\n",
    "#print('Test accuracy:', test_acc)"
   ]
  },
  {
   "cell_type": "code",
   "execution_count": 12,
   "metadata": {},
   "outputs": [],
   "source": [
    "nn_pred=model.predict_proba(X_test)\n",
    "n=[]\n",
    "#for i in nn_pred:\n",
    "        #n.append(i[1])"
   ]
  },
  {
   "cell_type": "code",
   "execution_count": 13,
   "metadata": {},
   "outputs": [],
   "source": [
    "kt=nn_pred.flatten()"
   ]
  },
  {
   "cell_type": "code",
   "execution_count": 14,
   "metadata": {},
   "outputs": [],
   "source": [
    "nn_sub= pd.DataFrame({'ID':np.arange(1,471), 'Attrition':kt}, index=None, columns=['ID','Attrition'])"
   ]
  },
  {
   "cell_type": "code",
   "execution_count": 15,
   "metadata": {},
   "outputs": [],
   "source": [
    "nn_sub.to_csv('nn_sub10.csv', index=False)"
   ]
  }
 ],
 "metadata": {
  "kernelspec": {
   "display_name": "Python 3",
   "language": "python",
   "name": "python3"
  },
  "language_info": {
   "codemirror_mode": {
    "name": "ipython",
    "version": 3
   },
   "file_extension": ".py",
   "mimetype": "text/x-python",
   "name": "python",
   "nbconvert_exporter": "python",
   "pygments_lexer": "ipython3",
   "version": "3.7.3"
  }
 },
 "nbformat": 4,
 "nbformat_minor": 2
}
